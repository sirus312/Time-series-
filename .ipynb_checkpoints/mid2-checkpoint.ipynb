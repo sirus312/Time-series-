{
 "cells": [
  {
   "cell_type": "code",
   "execution_count": 12,
   "id": "5e7b4a52",
   "metadata": {},
   "outputs": [
    {
     "name": "stdout",
     "output_type": "stream",
     "text": [
      "      date          rtn\n",
      "0  19730131     0.01005\n",
      "1  19730228    -0.13930\n",
      "2  19730330     0.06936\n",
      "3  19730430     0.08649\n",
      "4  19730531    -0.10448\n"
     ]
    }
   ],
   "source": [
    "#2.\n",
    "import pandas as pd\n",
    "import numpy as np\n",
    "\n",
    "# 載入資料集，並指定'date'和'rtn'作為列名\n",
    "data = pd.read_csv('C:/Users/user/OneDrive/文件/時間序列/Dataset-GARCH.txt')\n",
    "\n",
    "# 計算對數收益率\n",
    "#data['Log_Returns'] = data['rtn'].apply(lambda x: np.log(1 + x))\n",
    "#print(data.columns)\n",
    "print(data.head())"
   ]
  },
  {
   "cell_type": "code",
   "execution_count": 11,
   "id": "392c1db7",
   "metadata": {},
   "outputs": [
    {
     "ename": "ValueError",
     "evalue": "could not convert string to float: 'rtn'",
     "output_type": "error",
     "traceback": [
      "\u001b[1;31m---------------------------------------------------------------------------\u001b[0m",
      "\u001b[1;31mValueError\u001b[0m                                Traceback (most recent call last)",
      "\u001b[1;32m~\\AppData\\Local\\Temp\\ipykernel_18952\\1911165970.py\u001b[0m in \u001b[0;36m<module>\u001b[1;34m\u001b[0m\n\u001b[0;32m      6\u001b[0m \u001b[1;33m\u001b[0m\u001b[0m\n\u001b[0;32m      7\u001b[0m \u001b[1;31m# 計算對數收益率\u001b[0m\u001b[1;33m\u001b[0m\u001b[1;33m\u001b[0m\u001b[1;33m\u001b[0m\u001b[0m\n\u001b[1;32m----> 8\u001b[1;33m \u001b[0mdata\u001b[0m\u001b[1;33m[\u001b[0m\u001b[1;34m'rtn'\u001b[0m\u001b[1;33m]\u001b[0m \u001b[1;33m=\u001b[0m \u001b[0mdata\u001b[0m\u001b[1;33m[\u001b[0m\u001b[1;34m'rtn'\u001b[0m\u001b[1;33m]\u001b[0m\u001b[1;33m.\u001b[0m\u001b[0mastype\u001b[0m\u001b[1;33m(\u001b[0m\u001b[0mfloat\u001b[0m\u001b[1;33m)\u001b[0m\u001b[1;33m\u001b[0m\u001b[1;33m\u001b[0m\u001b[0m\n\u001b[0m\u001b[0;32m      9\u001b[0m \u001b[1;33m\u001b[0m\u001b[0m\n\u001b[0;32m     10\u001b[0m \u001b[1;31m# 將'date'轉換為日期時間格式\u001b[0m\u001b[1;33m\u001b[0m\u001b[1;33m\u001b[0m\u001b[1;33m\u001b[0m\u001b[0m\n",
      "\u001b[1;32m~\\anaconda3\\envs\\v37\\lib\\site-packages\\pandas\\core\\generic.py\u001b[0m in \u001b[0;36mastype\u001b[1;34m(self, dtype, copy, errors)\u001b[0m\n\u001b[0;32m   5813\u001b[0m         \u001b[1;32melse\u001b[0m\u001b[1;33m:\u001b[0m\u001b[1;33m\u001b[0m\u001b[1;33m\u001b[0m\u001b[0m\n\u001b[0;32m   5814\u001b[0m             \u001b[1;31m# else, only a single dtype is given\u001b[0m\u001b[1;33m\u001b[0m\u001b[1;33m\u001b[0m\u001b[1;33m\u001b[0m\u001b[0m\n\u001b[1;32m-> 5815\u001b[1;33m             \u001b[0mnew_data\u001b[0m \u001b[1;33m=\u001b[0m \u001b[0mself\u001b[0m\u001b[1;33m.\u001b[0m\u001b[0m_mgr\u001b[0m\u001b[1;33m.\u001b[0m\u001b[0mastype\u001b[0m\u001b[1;33m(\u001b[0m\u001b[0mdtype\u001b[0m\u001b[1;33m=\u001b[0m\u001b[0mdtype\u001b[0m\u001b[1;33m,\u001b[0m \u001b[0mcopy\u001b[0m\u001b[1;33m=\u001b[0m\u001b[0mcopy\u001b[0m\u001b[1;33m,\u001b[0m \u001b[0merrors\u001b[0m\u001b[1;33m=\u001b[0m\u001b[0merrors\u001b[0m\u001b[1;33m)\u001b[0m\u001b[1;33m\u001b[0m\u001b[1;33m\u001b[0m\u001b[0m\n\u001b[0m\u001b[0;32m   5816\u001b[0m             \u001b[1;32mreturn\u001b[0m \u001b[0mself\u001b[0m\u001b[1;33m.\u001b[0m\u001b[0m_constructor\u001b[0m\u001b[1;33m(\u001b[0m\u001b[0mnew_data\u001b[0m\u001b[1;33m)\u001b[0m\u001b[1;33m.\u001b[0m\u001b[0m__finalize__\u001b[0m\u001b[1;33m(\u001b[0m\u001b[0mself\u001b[0m\u001b[1;33m,\u001b[0m \u001b[0mmethod\u001b[0m\u001b[1;33m=\u001b[0m\u001b[1;34m\"astype\"\u001b[0m\u001b[1;33m)\u001b[0m\u001b[1;33m\u001b[0m\u001b[1;33m\u001b[0m\u001b[0m\n\u001b[0;32m   5817\u001b[0m \u001b[1;33m\u001b[0m\u001b[0m\n",
      "\u001b[1;32m~\\anaconda3\\envs\\v37\\lib\\site-packages\\pandas\\core\\internals\\managers.py\u001b[0m in \u001b[0;36mastype\u001b[1;34m(self, dtype, copy, errors)\u001b[0m\n\u001b[0;32m    416\u001b[0m \u001b[1;33m\u001b[0m\u001b[0m\n\u001b[0;32m    417\u001b[0m     \u001b[1;32mdef\u001b[0m \u001b[0mastype\u001b[0m\u001b[1;33m(\u001b[0m\u001b[0mself\u001b[0m\u001b[1;33m:\u001b[0m \u001b[0mT\u001b[0m\u001b[1;33m,\u001b[0m \u001b[0mdtype\u001b[0m\u001b[1;33m,\u001b[0m \u001b[0mcopy\u001b[0m\u001b[1;33m:\u001b[0m \u001b[0mbool\u001b[0m \u001b[1;33m=\u001b[0m \u001b[1;32mFalse\u001b[0m\u001b[1;33m,\u001b[0m \u001b[0merrors\u001b[0m\u001b[1;33m:\u001b[0m \u001b[0mstr\u001b[0m \u001b[1;33m=\u001b[0m \u001b[1;34m\"raise\"\u001b[0m\u001b[1;33m)\u001b[0m \u001b[1;33m->\u001b[0m \u001b[0mT\u001b[0m\u001b[1;33m:\u001b[0m\u001b[1;33m\u001b[0m\u001b[1;33m\u001b[0m\u001b[0m\n\u001b[1;32m--> 418\u001b[1;33m         \u001b[1;32mreturn\u001b[0m \u001b[0mself\u001b[0m\u001b[1;33m.\u001b[0m\u001b[0mapply\u001b[0m\u001b[1;33m(\u001b[0m\u001b[1;34m\"astype\"\u001b[0m\u001b[1;33m,\u001b[0m \u001b[0mdtype\u001b[0m\u001b[1;33m=\u001b[0m\u001b[0mdtype\u001b[0m\u001b[1;33m,\u001b[0m \u001b[0mcopy\u001b[0m\u001b[1;33m=\u001b[0m\u001b[0mcopy\u001b[0m\u001b[1;33m,\u001b[0m \u001b[0merrors\u001b[0m\u001b[1;33m=\u001b[0m\u001b[0merrors\u001b[0m\u001b[1;33m)\u001b[0m\u001b[1;33m\u001b[0m\u001b[1;33m\u001b[0m\u001b[0m\n\u001b[0m\u001b[0;32m    419\u001b[0m \u001b[1;33m\u001b[0m\u001b[0m\n\u001b[0;32m    420\u001b[0m     def convert(\n",
      "\u001b[1;32m~\\anaconda3\\envs\\v37\\lib\\site-packages\\pandas\\core\\internals\\managers.py\u001b[0m in \u001b[0;36mapply\u001b[1;34m(self, f, align_keys, ignore_failures, **kwargs)\u001b[0m\n\u001b[0;32m    325\u001b[0m                     \u001b[0mapplied\u001b[0m \u001b[1;33m=\u001b[0m \u001b[0mb\u001b[0m\u001b[1;33m.\u001b[0m\u001b[0mapply\u001b[0m\u001b[1;33m(\u001b[0m\u001b[0mf\u001b[0m\u001b[1;33m,\u001b[0m \u001b[1;33m**\u001b[0m\u001b[0mkwargs\u001b[0m\u001b[1;33m)\u001b[0m\u001b[1;33m\u001b[0m\u001b[1;33m\u001b[0m\u001b[0m\n\u001b[0;32m    326\u001b[0m                 \u001b[1;32melse\u001b[0m\u001b[1;33m:\u001b[0m\u001b[1;33m\u001b[0m\u001b[1;33m\u001b[0m\u001b[0m\n\u001b[1;32m--> 327\u001b[1;33m                     \u001b[0mapplied\u001b[0m \u001b[1;33m=\u001b[0m \u001b[0mgetattr\u001b[0m\u001b[1;33m(\u001b[0m\u001b[0mb\u001b[0m\u001b[1;33m,\u001b[0m \u001b[0mf\u001b[0m\u001b[1;33m)\u001b[0m\u001b[1;33m(\u001b[0m\u001b[1;33m**\u001b[0m\u001b[0mkwargs\u001b[0m\u001b[1;33m)\u001b[0m\u001b[1;33m\u001b[0m\u001b[1;33m\u001b[0m\u001b[0m\n\u001b[0m\u001b[0;32m    328\u001b[0m             \u001b[1;32mexcept\u001b[0m \u001b[1;33m(\u001b[0m\u001b[0mTypeError\u001b[0m\u001b[1;33m,\u001b[0m \u001b[0mNotImplementedError\u001b[0m\u001b[1;33m)\u001b[0m\u001b[1;33m:\u001b[0m\u001b[1;33m\u001b[0m\u001b[1;33m\u001b[0m\u001b[0m\n\u001b[0;32m    329\u001b[0m                 \u001b[1;32mif\u001b[0m \u001b[1;32mnot\u001b[0m \u001b[0mignore_failures\u001b[0m\u001b[1;33m:\u001b[0m\u001b[1;33m\u001b[0m\u001b[1;33m\u001b[0m\u001b[0m\n",
      "\u001b[1;32m~\\anaconda3\\envs\\v37\\lib\\site-packages\\pandas\\core\\internals\\blocks.py\u001b[0m in \u001b[0;36mastype\u001b[1;34m(self, dtype, copy, errors)\u001b[0m\n\u001b[0;32m    589\u001b[0m         \u001b[0mvalues\u001b[0m \u001b[1;33m=\u001b[0m \u001b[0mself\u001b[0m\u001b[1;33m.\u001b[0m\u001b[0mvalues\u001b[0m\u001b[1;33m\u001b[0m\u001b[1;33m\u001b[0m\u001b[0m\n\u001b[0;32m    590\u001b[0m \u001b[1;33m\u001b[0m\u001b[0m\n\u001b[1;32m--> 591\u001b[1;33m         \u001b[0mnew_values\u001b[0m \u001b[1;33m=\u001b[0m \u001b[0mastype_array_safe\u001b[0m\u001b[1;33m(\u001b[0m\u001b[0mvalues\u001b[0m\u001b[1;33m,\u001b[0m \u001b[0mdtype\u001b[0m\u001b[1;33m,\u001b[0m \u001b[0mcopy\u001b[0m\u001b[1;33m=\u001b[0m\u001b[0mcopy\u001b[0m\u001b[1;33m,\u001b[0m \u001b[0merrors\u001b[0m\u001b[1;33m=\u001b[0m\u001b[0merrors\u001b[0m\u001b[1;33m)\u001b[0m\u001b[1;33m\u001b[0m\u001b[1;33m\u001b[0m\u001b[0m\n\u001b[0m\u001b[0;32m    592\u001b[0m \u001b[1;33m\u001b[0m\u001b[0m\n\u001b[0;32m    593\u001b[0m         \u001b[0mnew_values\u001b[0m \u001b[1;33m=\u001b[0m \u001b[0mmaybe_coerce_values\u001b[0m\u001b[1;33m(\u001b[0m\u001b[0mnew_values\u001b[0m\u001b[1;33m)\u001b[0m\u001b[1;33m\u001b[0m\u001b[1;33m\u001b[0m\u001b[0m\n",
      "\u001b[1;32m~\\anaconda3\\envs\\v37\\lib\\site-packages\\pandas\\core\\dtypes\\cast.py\u001b[0m in \u001b[0;36mastype_array_safe\u001b[1;34m(values, dtype, copy, errors)\u001b[0m\n\u001b[0;32m   1307\u001b[0m \u001b[1;33m\u001b[0m\u001b[0m\n\u001b[0;32m   1308\u001b[0m     \u001b[1;32mtry\u001b[0m\u001b[1;33m:\u001b[0m\u001b[1;33m\u001b[0m\u001b[1;33m\u001b[0m\u001b[0m\n\u001b[1;32m-> 1309\u001b[1;33m         \u001b[0mnew_values\u001b[0m \u001b[1;33m=\u001b[0m \u001b[0mastype_array\u001b[0m\u001b[1;33m(\u001b[0m\u001b[0mvalues\u001b[0m\u001b[1;33m,\u001b[0m \u001b[0mdtype\u001b[0m\u001b[1;33m,\u001b[0m \u001b[0mcopy\u001b[0m\u001b[1;33m=\u001b[0m\u001b[0mcopy\u001b[0m\u001b[1;33m)\u001b[0m\u001b[1;33m\u001b[0m\u001b[1;33m\u001b[0m\u001b[0m\n\u001b[0m\u001b[0;32m   1310\u001b[0m     \u001b[1;32mexcept\u001b[0m \u001b[1;33m(\u001b[0m\u001b[0mValueError\u001b[0m\u001b[1;33m,\u001b[0m \u001b[0mTypeError\u001b[0m\u001b[1;33m)\u001b[0m\u001b[1;33m:\u001b[0m\u001b[1;33m\u001b[0m\u001b[1;33m\u001b[0m\u001b[0m\n\u001b[0;32m   1311\u001b[0m         \u001b[1;31m# e.g. astype_nansafe can fail on object-dtype of strings\u001b[0m\u001b[1;33m\u001b[0m\u001b[1;33m\u001b[0m\u001b[1;33m\u001b[0m\u001b[0m\n",
      "\u001b[1;32m~\\anaconda3\\envs\\v37\\lib\\site-packages\\pandas\\core\\dtypes\\cast.py\u001b[0m in \u001b[0;36mastype_array\u001b[1;34m(values, dtype, copy)\u001b[0m\n\u001b[0;32m   1255\u001b[0m \u001b[1;33m\u001b[0m\u001b[0m\n\u001b[0;32m   1256\u001b[0m     \u001b[1;32melse\u001b[0m\u001b[1;33m:\u001b[0m\u001b[1;33m\u001b[0m\u001b[1;33m\u001b[0m\u001b[0m\n\u001b[1;32m-> 1257\u001b[1;33m         \u001b[0mvalues\u001b[0m \u001b[1;33m=\u001b[0m \u001b[0mastype_nansafe\u001b[0m\u001b[1;33m(\u001b[0m\u001b[0mvalues\u001b[0m\u001b[1;33m,\u001b[0m \u001b[0mdtype\u001b[0m\u001b[1;33m,\u001b[0m \u001b[0mcopy\u001b[0m\u001b[1;33m=\u001b[0m\u001b[0mcopy\u001b[0m\u001b[1;33m)\u001b[0m\u001b[1;33m\u001b[0m\u001b[1;33m\u001b[0m\u001b[0m\n\u001b[0m\u001b[0;32m   1258\u001b[0m \u001b[1;33m\u001b[0m\u001b[0m\n\u001b[0;32m   1259\u001b[0m     \u001b[1;31m# in pandas we don't store numpy str dtypes, so convert to object\u001b[0m\u001b[1;33m\u001b[0m\u001b[1;33m\u001b[0m\u001b[1;33m\u001b[0m\u001b[0m\n",
      "\u001b[1;32m~\\anaconda3\\envs\\v37\\lib\\site-packages\\pandas\\core\\dtypes\\cast.py\u001b[0m in \u001b[0;36mastype_nansafe\u001b[1;34m(arr, dtype, copy, skipna)\u001b[0m\n\u001b[0;32m   1199\u001b[0m     \u001b[1;32mif\u001b[0m \u001b[0mcopy\u001b[0m \u001b[1;32mor\u001b[0m \u001b[0mis_object_dtype\u001b[0m\u001b[1;33m(\u001b[0m\u001b[0marr\u001b[0m\u001b[1;33m.\u001b[0m\u001b[0mdtype\u001b[0m\u001b[1;33m)\u001b[0m \u001b[1;32mor\u001b[0m \u001b[0mis_object_dtype\u001b[0m\u001b[1;33m(\u001b[0m\u001b[0mdtype\u001b[0m\u001b[1;33m)\u001b[0m\u001b[1;33m:\u001b[0m\u001b[1;33m\u001b[0m\u001b[1;33m\u001b[0m\u001b[0m\n\u001b[0;32m   1200\u001b[0m         \u001b[1;31m# Explicit copy, or required since NumPy can't view from / to object.\u001b[0m\u001b[1;33m\u001b[0m\u001b[1;33m\u001b[0m\u001b[1;33m\u001b[0m\u001b[0m\n\u001b[1;32m-> 1201\u001b[1;33m         \u001b[1;32mreturn\u001b[0m \u001b[0marr\u001b[0m\u001b[1;33m.\u001b[0m\u001b[0mastype\u001b[0m\u001b[1;33m(\u001b[0m\u001b[0mdtype\u001b[0m\u001b[1;33m,\u001b[0m \u001b[0mcopy\u001b[0m\u001b[1;33m=\u001b[0m\u001b[1;32mTrue\u001b[0m\u001b[1;33m)\u001b[0m\u001b[1;33m\u001b[0m\u001b[1;33m\u001b[0m\u001b[0m\n\u001b[0m\u001b[0;32m   1202\u001b[0m \u001b[1;33m\u001b[0m\u001b[0m\n\u001b[0;32m   1203\u001b[0m     \u001b[1;32mreturn\u001b[0m \u001b[0marr\u001b[0m\u001b[1;33m.\u001b[0m\u001b[0mastype\u001b[0m\u001b[1;33m(\u001b[0m\u001b[0mdtype\u001b[0m\u001b[1;33m,\u001b[0m \u001b[0mcopy\u001b[0m\u001b[1;33m=\u001b[0m\u001b[0mcopy\u001b[0m\u001b[1;33m)\u001b[0m\u001b[1;33m\u001b[0m\u001b[1;33m\u001b[0m\u001b[0m\n",
      "\u001b[1;31mValueError\u001b[0m: could not convert string to float: 'rtn'"
     ]
    }
   ],
   "source": [
    "import pandas as pd\n",
    "import numpy as np\n",
    "\n",
    "# 載入資料集，並指定正確的分隔符號和列名\n",
    "data = pd.read_csv('C:/Users/user/OneDrive/文件/時間序列/Dataset-GARCH.txt', sep='\\s+', names=['date', 'rtn'])\n",
    "\n",
    "# 計算對數收益率\n",
    "data['rtn'] = data['rtn'].astype(float)\n",
    "\n",
    "# 將'date'轉換為日期時間格式\n",
    "data['date'] = pd.to_datetime(data['date'], format='%Y%m%d')\n",
    "\n",
    "# 計算對數收益率\n",
    "data['Log_Returns'] = np.log(1 + data['rtn'])\n",
    "\n",
    "print(data.head())"
   ]
  },
  {
   "cell_type": "code",
   "execution_count": 13,
   "id": "3d34f4f1",
   "metadata": {},
   "outputs": [
    {
     "name": "stdout",
     "output_type": "stream",
     "text": [
      "        date      rtn  Log_Returns\n",
      "0 1973-01-31  0.01005     0.010000\n",
      "1 1973-02-28 -0.13930    -0.150009\n",
      "2 1973-03-30  0.06936     0.067060\n",
      "3 1973-04-30  0.08649     0.082952\n",
      "4 1973-05-31 -0.10448    -0.110351\n"
     ]
    }
   ],
   "source": [
    "import pandas as pd\n",
    "import numpy as np\n",
    "\n",
    "# 載入資料集，並指定正確的分隔符號和列名\n",
    "data = pd.read_csv('C:/Users/user/OneDrive/文件/時間序列/Dataset-GARCH.txt', sep='\\s+', skiprows=1, names=['date', 'rtn'])\n",
    "\n",
    "# 將'rtn'列中的資料轉換為浮點數\n",
    "data['rtn'] = data['rtn'].astype(float)\n",
    "\n",
    "# 將'date'轉換為日期時間格式\n",
    "data['date'] = pd.to_datetime(data['date'], format='%Y%m%d')\n",
    "\n",
    "# 計算對數收益率\n",
    "data['Log_Returns'] = np.log(1 + data['rtn'])\n",
    "\n",
    "print(data.head())"
   ]
  },
  {
   "cell_type": "code",
   "execution_count": 18,
   "id": "ad2015f8",
   "metadata": {},
   "outputs": [
    {
     "name": "stdout",
     "output_type": "stream",
     "text": [
      "Requirement already satisfied: arch in c:\\users\\user\\anaconda3\\envs\\v37\\lib\\site-packages (5.3.1)\n",
      "Requirement already satisfied: numpy>=1.17 in c:\\users\\user\\anaconda3\\envs\\v37\\lib\\site-packages (from arch) (1.21.5)\n",
      "Requirement already satisfied: property-cached>=1.6.4 in c:\\users\\user\\anaconda3\\envs\\v37\\lib\\site-packages (from arch) (1.6.4)\n",
      "Requirement already satisfied: statsmodels>=0.11 in c:\\users\\user\\anaconda3\\envs\\v37\\lib\\site-packages (from arch) (0.13.5)\n",
      "Requirement already satisfied: scipy>=1.3 in c:\\users\\user\\anaconda3\\envs\\v37\\lib\\site-packages (from arch) (1.7.3)\n",
      "Requirement already satisfied: pandas>=1.0 in c:\\users\\user\\anaconda3\\envs\\v37\\lib\\site-packages (from arch) (1.3.5)\n",
      "Requirement already satisfied: pytz>=2017.3 in c:\\users\\user\\anaconda3\\envs\\v37\\lib\\site-packages (from pandas>=1.0->arch) (2022.7)\n",
      "Requirement already satisfied: python-dateutil>=2.7.3 in c:\\users\\user\\anaconda3\\envs\\v37\\lib\\site-packages (from pandas>=1.0->arch) (2.8.2)\n",
      "Requirement already satisfied: packaging>=21.3 in c:\\users\\user\\anaconda3\\envs\\v37\\lib\\site-packages (from statsmodels>=0.11->arch) (22.0)\n",
      "Requirement already satisfied: patsy>=0.5.2 in c:\\users\\user\\anaconda3\\envs\\v37\\lib\\site-packages (from statsmodels>=0.11->arch) (0.5.3)\n",
      "Requirement already satisfied: six in c:\\users\\user\\anaconda3\\envs\\v37\\lib\\site-packages (from patsy>=0.5.2->statsmodels>=0.11->arch) (1.16.0)\n",
      "Iteration:      1,   Func. Count:      5,   Neg. LLF: 4832.781625851145\n",
      "Iteration:      2,   Func. Count:     14,   Neg. LLF: 58.30979565021759\n",
      "Iteration:      3,   Func. Count:     21,   Neg. LLF: -216.59292783081236\n",
      "Iteration:      4,   Func. Count:     26,   Neg. LLF: -230.04803910393764\n",
      "Iteration:      5,   Func. Count:     30,   Neg. LLF: -230.0481100032679\n",
      "Iteration:      6,   Func. Count:     33,   Neg. LLF: -230.04811000336025\n",
      "Optimization terminated successfully    (Exit mode 0)\n",
      "            Current function value: -230.0481100032679\n",
      "            Iterations: 6\n",
      "            Function evaluations: 33\n",
      "            Gradient evaluations: 6\n",
      "                      Constant Mean - ARCH Model Results                      \n",
      "==============================================================================\n",
      "Dep. Variable:            Log_Returns   R-squared:                       0.000\n",
      "Mean Model:             Constant Mean   Adj. R-squared:                  0.000\n",
      "Vol Model:                       ARCH   Log-Likelihood:                230.048\n",
      "Distribution:                  Normal   AIC:                          -454.096\n",
      "Method:            Maximum Likelihood   BIC:                          -442.340\n",
      "                                        No. Observations:                  372\n",
      "Date:                Wed, Apr 17 2024   Df Residuals:                      371\n",
      "Time:                        04:52:48   Df Model:                            1\n",
      "                                 Mean Model                                 \n",
      "============================================================================\n",
      "                 coef    std err          t      P>|t|      95.0% Conf. Int.\n",
      "----------------------------------------------------------------------------\n",
      "mu             0.0166  6.549e-03      2.532  1.133e-02 [3.748e-03,2.942e-02]\n",
      "                              Volatility Model                              \n",
      "============================================================================\n",
      "                 coef    std err          t      P>|t|      95.0% Conf. Int.\n",
      "----------------------------------------------------------------------------\n",
      "omega          0.0126  2.038e-03      6.157  7.423e-10 [8.555e-03,1.655e-02]\n",
      "alpha[1]       0.3571      0.198      1.807  7.077e-02  [-3.024e-02,  0.745]\n",
      "============================================================================\n",
      "\n",
      "Covariance estimator: robust\n",
      "ARCH-LM Test\n",
      "H0: Residuals are homoskedastic.\n",
      "ARCH-LM Test\n",
      "H1: Residuals are conditionally heteroskedastic.\n",
      "Statistic: 34.2013\n",
      "P-value: 0.0002\n",
      "Distributed: chi2(10)\n"
     ]
    },
    {
     "name": "stderr",
     "output_type": "stream",
     "text": [
      "C:\\Users\\user\\anaconda3\\envs\\v37\\lib\\site-packages\\arch\\univariate\\base.py:310: DataScaleWarning: y is poorly scaled, which may affect convergence of the optimizer when\n",
      "estimating the model parameters. The scale of y is 0.01784. Parameter\n",
      "estimation work better when this value is between 1 and 1000. The recommended\n",
      "rescaling is 10 * y.\n",
      "\n",
      "This warning can be disabled by either rescaling y before initializing the\n",
      "model or by setting rescale=False.\n",
      "\n",
      "  data_scale_warning.format(orig_scale, rescale), DataScaleWarning\n"
     ]
    }
   ],
   "source": [
    "2. (a)\n",
    "    \n",
    "#虛無假設（Null Hypothesis）：資料中不存在自相關的異方差效應（即無ARCH效應）。\n",
    "#對立假設（Alternative Hypothesis）：資料中存在自相關的異方差效應（即存在ARCH效應）。\n",
    "\n",
    "!pip install arch\n",
    "from arch import arch_model\n",
    "\n",
    "model = arch_model(data['Log_Returns'], vol='ARCH')\n",
    "\n",
    "# 擬合模型\n",
    "results = model.fit()\n",
    "\n",
    "# 顯示模型摘要\n",
    "print(results.summary())\n",
    "\n",
    "lm_test = results.arch_lm_test(lags=10)\n",
    "print(lm_test)\n",
    "\n",
    "#結果 p<0.05 有arch效應"
   ]
  },
  {
   "cell_type": "code",
   "execution_count": 17,
   "id": "e6081170",
   "metadata": {},
   "outputs": [
    {
     "name": "stdout",
     "output_type": "stream",
     "text": [
      "ARCH-LM Test\n",
      "H0: Residuals are homoskedastic.\n",
      "ARCH-LM Test\n",
      "H1: Residuals are conditionally heteroskedastic.\n",
      "Statistic: 34.2013\n",
      "P-value: 0.0002\n",
      "Distributed: chi2(10)\n"
     ]
    }
   ],
   "source": [
    "lm_test = results.arch_lm_test(lags=10)\n",
    "print(lm_test)"
   ]
  },
  {
   "cell_type": "code",
   "execution_count": 21,
   "id": "ed806d0f",
   "metadata": {},
   "outputs": [
    {
     "name": "stdout",
     "output_type": "stream",
     "text": [
      "Iteration:      1,   Func. Count:      6,   Neg. LLF: 27230887568235.633\n",
      "Iteration:      2,   Func. Count:     16,   Neg. LLF: 956659.1583637738\n",
      "Iteration:      3,   Func. Count:     24,   Neg. LLF: 113034.73798615356\n",
      "Iteration:      4,   Func. Count:     30,   Neg. LLF: -231.1898478687413\n",
      "Iteration:      5,   Func. Count:     36,   Neg. LLF: 765.1055392386696\n",
      "Iteration:      6,   Func. Count:     42,   Neg. LLF: -233.82842158074664\n",
      "Iteration:      7,   Func. Count:     48,   Neg. LLF: 10140.373563911116\n",
      "Iteration:      8,   Func. Count:     54,   Neg. LLF: -236.70384197587896\n",
      "Iteration:      9,   Func. Count:     60,   Neg. LLF: -240.9688708007826\n",
      "Iteration:     10,   Func. Count:     66,   Neg. LLF: -241.6333172172217\n",
      "Iteration:     11,   Func. Count:     72,   Neg. LLF: -241.63682500109775\n",
      "Iteration:     12,   Func. Count:     78,   Neg. LLF: -241.63921061637276\n",
      "Iteration:     13,   Func. Count:     82,   Neg. LLF: -241.6392106165132\n",
      "Optimization terminated successfully    (Exit mode 0)\n",
      "            Current function value: -241.63921061637276\n",
      "            Iterations: 13\n",
      "            Function evaluations: 82\n",
      "            Gradient evaluations: 13\n",
      "                     Constant Mean - GARCH Model Results                      \n",
      "==============================================================================\n",
      "Dep. Variable:            Log_Returns   R-squared:                       0.000\n",
      "Mean Model:             Constant Mean   Adj. R-squared:                  0.000\n",
      "Vol Model:                      GARCH   Log-Likelihood:                241.639\n",
      "Distribution:                  Normal   AIC:                          -475.278\n",
      "Method:            Maximum Likelihood   BIC:                          -459.603\n",
      "                                        No. Observations:                  372\n",
      "Date:                Wed, Apr 17 2024   Df Residuals:                      371\n",
      "Time:                        04:57:13   Df Model:                            1\n",
      "                                 Mean Model                                 \n",
      "============================================================================\n",
      "                 coef    std err          t      P>|t|      95.0% Conf. Int.\n",
      "----------------------------------------------------------------------------\n",
      "mu             0.0164  6.797e-03      2.416  1.568e-02 [3.102e-03,2.975e-02]\n",
      "                              Volatility Model                              \n",
      "============================================================================\n",
      "                 coef    std err          t      P>|t|      95.0% Conf. Int.\n",
      "----------------------------------------------------------------------------\n",
      "omega      8.2438e-04  3.969e-04      2.077  3.779e-02 [4.649e-05,1.602e-03]\n",
      "alpha[1]       0.0618  2.569e-02      2.405  1.616e-02   [1.144e-02,  0.112]\n",
      "beta[1]        0.8853  3.747e-02     23.627 2.021e-123     [  0.812,  0.959]\n",
      "============================================================================\n",
      "\n",
      "Covariance estimator: robust\n"
     ]
    },
    {
     "name": "stderr",
     "output_type": "stream",
     "text": [
      "C:\\Users\\user\\anaconda3\\envs\\v37\\lib\\site-packages\\arch\\univariate\\base.py:310: DataScaleWarning: y is poorly scaled, which may affect convergence of the optimizer when\n",
      "estimating the model parameters. The scale of y is 0.01784. Parameter\n",
      "estimation work better when this value is between 1 and 1000. The recommended\n",
      "rescaling is 10 * y.\n",
      "\n",
      "This warning can be disabled by either rescaling y before initializing the\n",
      "model or by setting rescale=False.\n",
      "\n",
      "  data_scale_warning.format(orig_scale, rescale), DataScaleWarning\n"
     ]
    }
   ],
   "source": [
    "#2.(b)\n",
    "# 擬合 GARCH 模型\n",
    "garch_model = arch_model(data['Log_Returns'], vol='GARCH')\n",
    "garch_results = garch_model.fit()\n",
    "\n",
    "    # 打印模型摘要\n",
    "print(garch_results.summary())\n",
    "\n"
   ]
  },
  {
   "cell_type": "code",
   "execution_count": 22,
   "id": "345efb3d",
   "metadata": {},
   "outputs": [
    {
     "name": "stdout",
     "output_type": "stream",
     "text": [
      "均值方程式 (Mean Equation):\n",
      "μ_t = 0.0164\n",
      "\n",
      "波動度方程式 (Volatility Equation):\n",
      "σ^2_t = 0.00082438 + 0.0618 × a^2_(t-1) + 0.8853 × σ^2_(t-1)\n"
     ]
    }
   ],
   "source": [
    "# 均值方程式 (Mean Equation)\n",
    "mu_t = 0.0164\n",
    "print(\"均值方程式 (Mean Equation):\")\n",
    "print(\"μ_t =\", mu_t)\n",
    "\n",
    "# 波動度方程式 (Volatility Equation)\n",
    "omega = 8.2438e-4\n",
    "alpha_1 = 0.0618\n",
    "beta_1 = 0.8853\n",
    "print(\"\\n波動度方程式 (Volatility Equation):\")\n",
    "print(\"σ^2_t =\", omega, \"+\", alpha_1, \"× a^2_(t-1)\", \"+\", beta_1, \"× σ^2_(t-1)\")"
   ]
  },
  {
   "cell_type": "code",
   "execution_count": null,
   "id": "d8d0d371",
   "metadata": {},
   "outputs": [],
   "source": []
  }
 ],
 "metadata": {
  "kernelspec": {
   "display_name": "Python 3 (ipykernel)",
   "language": "python",
   "name": "python3"
  },
  "language_info": {
   "codemirror_mode": {
    "name": "ipython",
    "version": 3
   },
   "file_extension": ".py",
   "mimetype": "text/x-python",
   "name": "python",
   "nbconvert_exporter": "python",
   "pygments_lexer": "ipython3",
   "version": "3.7.16"
  }
 },
 "nbformat": 4,
 "nbformat_minor": 5
}
