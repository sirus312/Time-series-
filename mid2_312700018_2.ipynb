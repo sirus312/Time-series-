{
 "cells": [
  {
   "cell_type": "code",
   "execution_count": 9,
   "id": "5e7b4a52",
   "metadata": {},
   "outputs": [
    {
     "name": "stdout",
     "output_type": "stream",
     "text": [
      "      date          rtn\n",
      "0  19730131     0.01005\n",
      "1  19730228    -0.13930\n",
      "2  19730330     0.06936\n",
      "3  19730430     0.08649\n",
      "4  19730531    -0.10448\n"
     ]
    }
   ],
   "source": [
    "#2.\n",
    "import pandas as pd\n",
    "import numpy as np\n",
    "\n",
    "# 載入資料集，並指定'date'和'rtn'作為列名\n",
    "data = pd.read_csv('C:/Users/user/OneDrive/文件/時間序列/Dataset-GARCH.txt')\n",
    "\n",
    "# 計算對數收益率\n",
    "#data['Log_Returns'] = data['rtn'].apply(lambda x: np.log(1 + x))\n",
    "#print(data.columns)\n",
    "print(data.head())"
   ]
  },
  {
   "cell_type": "code",
   "execution_count": 41,
   "id": "3d34f4f1",
   "metadata": {},
   "outputs": [
    {
     "name": "stdout",
     "output_type": "stream",
     "text": [
      "        date      rtn  Log_Returns\n",
      "0 1973-01-31  0.01005     0.010000\n",
      "1 1973-02-28 -0.13930    -0.150009\n",
      "2 1973-03-30  0.06936     0.067060\n",
      "3 1973-04-30  0.08649     0.082952\n",
      "4 1973-05-31 -0.10448    -0.110351\n"
     ]
    }
   ],
   "source": [
    "#2.\n",
    "import pandas as pd\n",
    "import numpy as np\n",
    "\n",
    "# 載入資料集，並指定正確的分隔符號和列名\n",
    "data = pd.read_csv('C:/Users/user/OneDrive/文件/時間序列/Dataset-GARCH.txt', sep='\\s+', skiprows=1, names=['date', 'rtn'])\n",
    "\n",
    "# 將'rtn'列中的資料轉換為浮點數\n",
    "data['rtn'] = data['rtn'].astype(float)\n",
    "\n",
    "# 將'date'轉換為日期時間格式\n",
    "data['date'] = pd.to_datetime(data['date'] , format='%Y%m%d' )  ###\n",
    "\n",
    "# 計算對數收益率\n",
    "data['Log_Returns'] = np.log(1 + data['rtn'])\n",
    "\n",
    "print(data.head())"
   ]
  },
  {
   "cell_type": "code",
   "execution_count": 6,
   "id": "ad2015f8",
   "metadata": {},
   "outputs": [
    {
     "name": "stdout",
     "output_type": "stream",
     "text": [
      "Requirement already satisfied: arch in c:\\users\\user\\anaconda3\\envs\\v37\\lib\\site-packages (5.3.1)\n",
      "Requirement already satisfied: pandas>=1.0 in c:\\users\\user\\anaconda3\\envs\\v37\\lib\\site-packages (from arch) (1.3.5)\n",
      "Requirement already satisfied: property-cached>=1.6.4 in c:\\users\\user\\anaconda3\\envs\\v37\\lib\\site-packages (from arch) (1.6.4)\n",
      "Requirement already satisfied: numpy>=1.17 in c:\\users\\user\\anaconda3\\envs\\v37\\lib\\site-packages (from arch) (1.21.5)\n",
      "Requirement already satisfied: scipy>=1.3 in c:\\users\\user\\anaconda3\\envs\\v37\\lib\\site-packages (from arch) (1.7.3)\n",
      "Requirement already satisfied: statsmodels>=0.11 in c:\\users\\user\\anaconda3\\envs\\v37\\lib\\site-packages (from arch) (0.13.5)\n",
      "Requirement already satisfied: pytz>=2017.3 in c:\\users\\user\\anaconda3\\envs\\v37\\lib\\site-packages (from pandas>=1.0->arch) (2022.7)\n",
      "Requirement already satisfied: python-dateutil>=2.7.3 in c:\\users\\user\\anaconda3\\envs\\v37\\lib\\site-packages (from pandas>=1.0->arch) (2.8.2)\n",
      "Requirement already satisfied: packaging>=21.3 in c:\\users\\user\\anaconda3\\envs\\v37\\lib\\site-packages (from statsmodels>=0.11->arch) (22.0)\n",
      "Requirement already satisfied: patsy>=0.5.2 in c:\\users\\user\\anaconda3\\envs\\v37\\lib\\site-packages (from statsmodels>=0.11->arch) (0.5.3)\n",
      "Requirement already satisfied: six in c:\\users\\user\\anaconda3\\envs\\v37\\lib\\site-packages (from patsy>=0.5.2->statsmodels>=0.11->arch) (1.16.0)\n",
      "Iteration:      1,   Func. Count:      5,   Neg. LLF: 4832.781625851145\n",
      "Iteration:      2,   Func. Count:     14,   Neg. LLF: 58.30979565021759\n",
      "Iteration:      3,   Func. Count:     21,   Neg. LLF: -216.59292783081236\n",
      "Iteration:      4,   Func. Count:     26,   Neg. LLF: -230.04803910393764\n",
      "Iteration:      5,   Func. Count:     30,   Neg. LLF: -230.0481100032679\n",
      "Iteration:      6,   Func. Count:     33,   Neg. LLF: -230.04811000336025\n",
      "Optimization terminated successfully    (Exit mode 0)\n",
      "            Current function value: -230.0481100032679\n",
      "            Iterations: 6\n",
      "            Function evaluations: 33\n",
      "            Gradient evaluations: 6\n",
      "                      Constant Mean - ARCH Model Results                      \n",
      "==============================================================================\n",
      "Dep. Variable:            Log_Returns   R-squared:                       0.000\n",
      "Mean Model:             Constant Mean   Adj. R-squared:                  0.000\n",
      "Vol Model:                       ARCH   Log-Likelihood:                230.048\n",
      "Distribution:                  Normal   AIC:                          -454.096\n",
      "Method:            Maximum Likelihood   BIC:                          -442.340\n",
      "                                        No. Observations:                  372\n",
      "Date:                Wed, Apr 17 2024   Df Residuals:                      371\n",
      "Time:                        22:38:58   Df Model:                            1\n",
      "                                 Mean Model                                 \n",
      "============================================================================\n",
      "                 coef    std err          t      P>|t|      95.0% Conf. Int.\n",
      "----------------------------------------------------------------------------\n",
      "mu             0.0166  6.549e-03      2.532  1.133e-02 [3.748e-03,2.942e-02]\n",
      "                              Volatility Model                              \n",
      "============================================================================\n",
      "                 coef    std err          t      P>|t|      95.0% Conf. Int.\n",
      "----------------------------------------------------------------------------\n",
      "omega          0.0126  2.038e-03      6.157  7.423e-10 [8.555e-03,1.655e-02]\n",
      "alpha[1]       0.3571      0.198      1.807  7.077e-02  [-3.024e-02,  0.745]\n",
      "============================================================================\n",
      "\n",
      "Covariance estimator: robust\n",
      "ARCH-LM Test\n",
      "H0: Residuals are homoskedastic.\n",
      "ARCH-LM Test\n",
      "H1: Residuals are conditionally heteroskedastic.\n",
      "Statistic: 34.2013\n",
      "P-value: 0.0002\n",
      "Distributed: chi2(10)\n"
     ]
    },
    {
     "name": "stderr",
     "output_type": "stream",
     "text": [
      "C:\\Users\\user\\anaconda3\\envs\\v37\\lib\\site-packages\\arch\\univariate\\base.py:310: DataScaleWarning: y is poorly scaled, which may affect convergence of the optimizer when\n",
      "estimating the model parameters. The scale of y is 0.01784. Parameter\n",
      "estimation work better when this value is between 1 and 1000. The recommended\n",
      "rescaling is 10 * y.\n",
      "\n",
      "This warning can be disabled by either rescaling y before initializing the\n",
      "model or by setting rescale=False.\n",
      "\n",
      "  data_scale_warning.format(orig_scale, rescale), DataScaleWarning\n"
     ]
    }
   ],
   "source": [
    "#2. (a)\n",
    "    \n",
    "#虛無假設（Null Hypothesis）：資料中不存在自相關的異方差效應（即無ARCH效應）。\n",
    "#對立假設（Alternative Hypothesis）：資料中存在自相關的異方差效應（即存在ARCH效應）。\n",
    "\n",
    "!pip install arch\n",
    "from arch import arch_model\n",
    "\n",
    "model = arch_model(data['Log_Returns'], vol='ARCH')\n",
    "\n",
    "# 擬合模型\n",
    "results = model.fit()\n",
    "\n",
    "# 顯示模型摘要\n",
    "print(results.summary())\n",
    "\n",
    "#實施lm test\n",
    "lm_test = results.arch_lm_test(lags=10)\n",
    "print(lm_test)\n",
    "\n",
    "#結果 p<0.05 有arch效應"
   ]
  },
  {
   "cell_type": "code",
   "execution_count": 8,
   "id": "ed806d0f",
   "metadata": {},
   "outputs": [
    {
     "name": "stdout",
     "output_type": "stream",
     "text": [
      "Iteration:      1,   Func. Count:      6,   Neg. LLF: 27230887568235.633\n",
      "Iteration:      2,   Func. Count:     16,   Neg. LLF: 956659.1583637738\n",
      "Iteration:      3,   Func. Count:     24,   Neg. LLF: 113034.73798615356\n",
      "Iteration:      4,   Func. Count:     30,   Neg. LLF: -231.1898478687413\n",
      "Iteration:      5,   Func. Count:     36,   Neg. LLF: 765.1055392386696\n",
      "Iteration:      6,   Func. Count:     42,   Neg. LLF: -233.82842158074664\n",
      "Iteration:      7,   Func. Count:     48,   Neg. LLF: 10140.373563911116\n",
      "Iteration:      8,   Func. Count:     54,   Neg. LLF: -236.70384197587896\n",
      "Iteration:      9,   Func. Count:     60,   Neg. LLF: -240.9688708007826\n",
      "Iteration:     10,   Func. Count:     66,   Neg. LLF: -241.6333172172217\n",
      "Iteration:     11,   Func. Count:     72,   Neg. LLF: -241.63682500109775\n",
      "Iteration:     12,   Func. Count:     78,   Neg. LLF: -241.63921061637276\n",
      "Iteration:     13,   Func. Count:     82,   Neg. LLF: -241.6392106165132\n",
      "Optimization terminated successfully    (Exit mode 0)\n",
      "            Current function value: -241.63921061637276\n",
      "            Iterations: 13\n",
      "            Function evaluations: 82\n",
      "            Gradient evaluations: 13\n",
      "                     Constant Mean - GARCH Model Results                      \n",
      "==============================================================================\n",
      "Dep. Variable:            Log_Returns   R-squared:                       0.000\n",
      "Mean Model:             Constant Mean   Adj. R-squared:                  0.000\n",
      "Vol Model:                      GARCH   Log-Likelihood:                241.639\n",
      "Distribution:                  Normal   AIC:                          -475.278\n",
      "Method:            Maximum Likelihood   BIC:                          -459.603\n",
      "                                        No. Observations:                  372\n",
      "Date:                Wed, Apr 17 2024   Df Residuals:                      371\n",
      "Time:                        22:38:58   Df Model:                            1\n",
      "                                 Mean Model                                 \n",
      "============================================================================\n",
      "                 coef    std err          t      P>|t|      95.0% Conf. Int.\n",
      "----------------------------------------------------------------------------\n",
      "mu             0.0164  6.797e-03      2.416  1.568e-02 [3.102e-03,2.975e-02]\n",
      "                              Volatility Model                              \n",
      "============================================================================\n",
      "                 coef    std err          t      P>|t|      95.0% Conf. Int.\n",
      "----------------------------------------------------------------------------\n",
      "omega      8.2438e-04  3.969e-04      2.077  3.779e-02 [4.649e-05,1.602e-03]\n",
      "alpha[1]       0.0618  2.569e-02      2.405  1.616e-02   [1.144e-02,  0.112]\n",
      "beta[1]        0.8853  3.747e-02     23.627 2.021e-123     [  0.812,  0.959]\n",
      "============================================================================\n",
      "\n",
      "Covariance estimator: robust\n"
     ]
    },
    {
     "name": "stderr",
     "output_type": "stream",
     "text": [
      "C:\\Users\\user\\anaconda3\\envs\\v37\\lib\\site-packages\\arch\\univariate\\base.py:310: DataScaleWarning: y is poorly scaled, which may affect convergence of the optimizer when\n",
      "estimating the model parameters. The scale of y is 0.01784. Parameter\n",
      "estimation work better when this value is between 1 and 1000. The recommended\n",
      "rescaling is 10 * y.\n",
      "\n",
      "This warning can be disabled by either rescaling y before initializing the\n",
      "model or by setting rescale=False.\n",
      "\n",
      "  data_scale_warning.format(orig_scale, rescale), DataScaleWarning\n"
     ]
    }
   ],
   "source": [
    "#2.(b)\n",
    "# 擬合 GARCH 模型\n",
    "garch_model = arch_model(data['Log_Returns'], vol='GARCH')\n",
    "garch_results = garch_model.fit()\n",
    "\n",
    "    # 打印模型摘要\n",
    "print(garch_results.summary())"
   ]
  },
  {
   "cell_type": "code",
   "execution_count": 9,
   "id": "345efb3d",
   "metadata": {},
   "outputs": [
    {
     "name": "stdout",
     "output_type": "stream",
     "text": [
      "均值方程式 (Mean Equation):\n",
      "μ_t = 0.0164\n",
      "\n",
      "波動度方程式 (Volatility Equation):\n",
      "σ^2_t = 0.00082438 + 0.0618 × a^2_(t-1) + 0.8853 × σ^2_(t-1)\n"
     ]
    }
   ],
   "source": [
    "#2. (b)\n",
    "# 均值方程式 (Mean Equation)\n",
    "mu_t = 0.0164\n",
    "print(\"均值方程式 (Mean Equation):\")\n",
    "print(\"μ_t =\", mu_t)\n",
    "\n",
    "# 波動度方程式 (Volatility Equation)\n",
    "omega = 8.2438e-4\n",
    "alpha_1 = 0.0618\n",
    "beta_1 = 0.8853\n",
    "print(\"\\n波動度方程式 (Volatility Equation):\")\n",
    "print(\"σ^2_t =\", omega, \"+\", alpha_1, \"× a^2_(t-1)\", \"+\", beta_1, \"× σ^2_(t-1)\")"
   ]
  },
  {
   "cell_type": "code",
   "execution_count": 12,
   "id": "e4733b7c",
   "metadata": {},
   "outputs": [
    {
     "data": {
      "image/png": "[encoded data removed]",
      "text/plain": [
       "<Figure size 640x480 with 1 Axes>"
      ]
     },
     "metadata": {},
     "output_type": "display_data"
    },
    {
     "name": "stdout",
     "output_type": "stream",
     "text": [
      "LM Test p-value: 0.10472107046578688\n"
     ]
    }
   ],
   "source": [
    "#2.(c) (10%): Similar to problem 1-(d), we would like to check whether the fitted GARCH model is reasonable\n",
    "#by checking its residual. How do you do this for a GARCH model? What’s your conclusion?\n",
    "\n",
    "from statsmodels.stats.diagnostic import acorr_ljungbox\n",
    "\n",
    "# 计算标准化残差\n",
    "standardized_residuals = residuals / np.sqrt(garch_results.conditional_volatility)\n",
    "\n",
    "# 绘制标准化残差的自相关函数（ACF）\n",
    "sm.graphics.tsa.plot_acf(standardized_residuals, lags=20)\n",
    "plt.title(\"Autocorrelation Function (ACF) of Standardized Residuals\")\n",
    "plt.xlabel(\"Lag\")\n",
    "plt.ylabel(\"ACF\")\n",
    "plt.show()\n",
    "\n",
    "# 进行 LM 检验\n",
    "lb_test = acorr_ljungbox(residuals, lags=[10], return_df=False)\n",
    "print(\"LM Test p-value:\", lb_test[1][0])\n",
    "\n",
    "# 做出來沒有顯著自我相關 變異數\n",
    "#根據LM結果 此GARCH模型在10個LAG上是沒有自相關性的\n",
    "# P-VALUE>0.05   殘差序列不存在自相關性 此GARCH模型不合理"
   ]
  },
  {
   "cell_type": "code",
   "execution_count": 39,
   "id": "61ef8839",
   "metadata": {},
   "outputs": [
    {
     "name": "stdout",
     "output_type": "stream",
     "text": [
      "Volatility forecasts at forecast origin December 2003:\n",
      "                 h.1       h.2       h.3       h.4       h.5\n",
      "date                                                        \n",
      "2003-12-31  0.016515  0.016465  0.016419  0.016374  0.016333\n"
     ]
    },
    {
     "name": "stderr",
     "output_type": "stream",
     "text": [
      "C:\\Users\\user\\anaconda3\\envs\\v37\\lib\\site-packages\\arch\\__future__\\_utility.py:21: FutureWarning: \n",
      "The default for reindex is True. After September 2021 this will change to\n",
      "False. Set reindex to True or False to silence this message. Alternatively,\n",
      "you can use the import comment\n",
      "\n",
      "from arch.__future__ import reindexing\n",
      "\n",
      "to globally set reindex to True and silence this warning.\n",
      "\n",
      "  FutureWarning,\n"
     ]
    }
   ],
   "source": [
    "#2.(d) (10%) Based on the GARCH model you fit, compute 1-step to 5-step ahead volatility forecasts at the\n",
    "#forecast origin December 2003.\n",
    "\n",
    "forecast_horizon = 5\n",
    "\n",
    "# 将日期时间列设置为时间序列的索引\n",
    "#data.set_index('date', inplace=True)\n",
    "# 将日期字符串转换为 datetime64 类型\n",
    "start_date = pd.to_datetime('2003-12-01')\n",
    "\n",
    "# 使用已拟合的 GARCH 模型进行波动率预测\n",
    "forecasts = garch_results.forecast(start=start_date, horizon=forecast_horizon)\n",
    "\n",
    "# 提取波动率预测\n",
    "volatility_forecasts = forecasts.variance[start_date:]\n",
    "\n",
    "# 打印出波动率预测\n",
    "print(\"Volatility forecasts at forecast origin December 2003:\")\n",
    "print(volatility_forecasts)"
   ]
  },
  {
   "cell_type": "code",
   "execution_count": 40,
   "id": "6c466ccc",
   "metadata": {},
   "outputs": [
    {
     "name": "stdout",
     "output_type": "stream",
     "text": [
      "Yt forecasts from the last observation:\n",
      "                 h.1       h.2       h.3       h.4       h.5\n",
      "date                                                        \n",
      "2003-12-31  0.016424  0.016424  0.016424  0.016424  0.016424\n"
     ]
    },
    {
     "name": "stderr",
     "output_type": "stream",
     "text": [
      "C:\\Users\\user\\anaconda3\\envs\\v37\\lib\\site-packages\\arch\\__future__\\_utility.py:21: FutureWarning: \n",
      "The default for reindex is True. After September 2021 this will change to\n",
      "False. Set reindex to True or False to silence this message. Alternatively,\n",
      "you can use the import comment\n",
      "\n",
      "from arch.__future__ import reindexing\n",
      "\n",
      "to globally set reindex to True and silence this warning.\n",
      "\n",
      "  FutureWarning,\n"
     ]
    }
   ],
   "source": [
    "#2.(e)(10%) Based on the GARCH model you fit, compute 1-step to 5-step ahead Yt forecasts at the forecast\n",
    "#origin December 2003.\n",
    "\n",
    "import pandas as pd\n",
    "start_date = pd.to_datetime('2003-12-01')\n",
    "\n",
    "# 使用已拟合的 GARCH 模型进行波动率预测\n",
    "forecasts = garch_results.forecast(start=start_date, horizon=5)\n",
    "\n",
    "# 提取前瞻 Yt 预测\n",
    "yt_forecasts = forecasts.mean[start_date:]\n",
    "\n",
    "# 打印出 Yt 预测\n",
    "print(\"Yt forecasts from the last observation:\")\n",
    "print(yt_forecasts)"
   ]
  },
  {
   "cell_type": "code",
   "execution_count": null,
   "id": "d4baae35",
   "metadata": {},
   "outputs": [],
   "source": []
  }
 ],
 "metadata": {
  "kernelspec": {
   "display_name": "Python 3 (ipykernel)",
   "language": "python",
   "name": "python3"
  },
  "language_info": {
   "codemirror_mode": {
    "name": "ipython",
    "version": 3
   },
   "file_extension": ".py",
   "mimetype": "text/x-python",
   "name": "python",
   "nbconvert_exporter": "python",
   "pygments_lexer": "ipython3",
   "version": "3.7.16"
  }
 },
 "nbformat": 4,
 "nbformat_minor": 5
}
